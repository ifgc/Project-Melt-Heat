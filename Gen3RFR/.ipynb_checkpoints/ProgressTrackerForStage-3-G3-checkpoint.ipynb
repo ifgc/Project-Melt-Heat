{
 "cells": [
  {
   "cell_type": "code",
   "execution_count": 1,
   "id": "d362d3d1",
   "metadata": {},
   "outputs": [],
   "source": [
    "import pandas as pd"
   ]
  },
  {
   "cell_type": "code",
   "execution_count": null,
   "id": "318ef836",
   "metadata": {
    "scrolled": false
   },
   "outputs": [
    {
     "name": "stdout",
     "output_type": "stream",
     "text": [
      "2024-07-29 19:00:24,934 - INFO - Filter Data empty for zr\n",
      "2024-07-29 19:00:24,936 - WARNING - Filter Data Empty for 2M22342545+4526457 Source:1982971041760177024 ZTF:771104100020460 and filter zr: Insufficient data points: 0\n",
      "2024-07-29 19:00:24,943 - INFO - Filter Data empty for zi\n",
      "2024-07-29 19:00:24,944 - WARNING - Filter Data Empty for 2M22342545+4526457 Source:1982971041760177024 ZTF:771104100020460 and filter zi: Insufficient data points: 0\n",
      "2024-07-29 19:00:24,944 - INFO - Processing Gaia DR3 - 1982971041760177024 58755/60900 APOGEE_IDs (96.48%) with batch size 9\n"
     ]
    }
   ],
   "source": [
    "# import os\n",
    "from IPython.display import clear_output\n",
    "import time\n",
    "\n",
    "def print_last_lines(file_path, num_lines=100):\n",
    "    clear_output(wait=True)\n",
    "    with open(file_path, 'r') as file:\n",
    "        # Read all lines from the file\n",
    "        lines = file.readlines()\n",
    "        # Print the last num_lines lines\n",
    "        for line in lines[-num_lines:]:\n",
    "            print(line, end='')\n",
    "    # Wait for 5 seconds after printing\n",
    "    time.sleep(1)\n",
    "\n",
    "\n",
    "while 2 > 1:\n",
    "    print_last_lines('LogFor_griRun/processing.log', 5)\n"
   ]
  },
  {
   "cell_type": "code",
   "execution_count": null,
   "id": "a96b1de9",
   "metadata": {},
   "outputs": [],
   "source": [
    "df = pd.read_csv('logs/extracted_features.csv')\n",
    "display(df)"
   ]
  },
  {
   "cell_type": "code",
   "execution_count": null,
   "id": "e0a56108",
   "metadata": {},
   "outputs": [],
   "source": []
  },
  {
   "cell_type": "code",
   "execution_count": null,
   "id": "91850e70",
   "metadata": {},
   "outputs": [],
   "source": []
  },
  {
   "cell_type": "code",
   "execution_count": null,
   "id": "ea128ff6",
   "metadata": {},
   "outputs": [],
   "source": []
  }
 ],
 "metadata": {
  "kernelspec": {
   "display_name": "Python (project_meltheat_v2)",
   "language": "python",
   "name": "project_meltheat_v2"
  },
  "language_info": {
   "codemirror_mode": {
    "name": "ipython",
    "version": 3
   },
   "file_extension": ".py",
   "mimetype": "text/x-python",
   "name": "python",
   "nbconvert_exporter": "python",
   "pygments_lexer": "ipython3",
   "version": "3.9.12"
  }
 },
 "nbformat": 4,
 "nbformat_minor": 5
}
