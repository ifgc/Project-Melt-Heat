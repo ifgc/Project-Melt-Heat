{
 "cells": [
  {
   "cell_type": "code",
   "execution_count": 13,
   "id": "d362d3d1",
   "metadata": {},
   "outputs": [],
   "source": [
    "import pandas as pd"
   ]
  },
  {
   "cell_type": "code",
   "execution_count": null,
   "id": "318ef836",
   "metadata": {
    "scrolled": false
   },
   "outputs": [
    {
     "name": "stdout",
     "output_type": "stream",
     "text": [
      "2024-07-31 07:20:17,501 - INFO - Failures logged in 'extraction_failures.csv'.\n",
      "2024-07-31 07:20:26,784 - ERROR - No such comm target registered: jupyter.widget.control\n",
      "2024-07-31 07:20:26,788 - ERROR - No such comm target registered: jupyter.widget.control\n",
      "2024-07-31 07:20:26,791 - WARNING - No such comm: dca34007-c7d9-4a08-ac09-3269f184582e\n",
      "2024-07-31 07:20:26,795 - WARNING - No such comm: 30c0efc2-2f69-41e9-83e1-7465e50251e4\n"
     ]
    }
   ],
   "source": [
    "# import os\n",
    "from IPython.display import clear_output\n",
    "import time\n",
    "\n",
    "def print_last_lines(file_path, num_lines=100):\n",
    "    clear_output(wait=True)\n",
    "    with open(file_path, 'r') as file:\n",
    "        # Read all lines from the file\n",
    "        lines = file.readlines()\n",
    "        # Print the last num_lines lines\n",
    "        for line in lines[-num_lines:]:\n",
    "            print(line, end='')\n",
    "    # Wait for 5 seconds after printing\n",
    "    time.sleep(1)\n",
    "\n",
    "\n",
    "while 2 > 1:\n",
    "    print_last_lines('logs/processing.log', 5)\n"
   ]
  },
  {
   "cell_type": "code",
   "execution_count": null,
   "id": "a96b1de9",
   "metadata": {},
   "outputs": [],
   "source": [
    "df = pd.read_csv('logs/extracted_features.csv')\n",
    "display(df)"
   ]
  },
  {
   "cell_type": "code",
   "execution_count": null,
   "id": "e0a56108",
   "metadata": {},
   "outputs": [],
   "source": []
  },
  {
   "cell_type": "code",
   "execution_count": null,
   "id": "91850e70",
   "metadata": {},
   "outputs": [],
   "source": []
  },
  {
   "cell_type": "code",
   "execution_count": null,
   "id": "ea128ff6",
   "metadata": {},
   "outputs": [],
   "source": []
  }
 ],
 "metadata": {
  "kernelspec": {
   "display_name": "Python (project_meltheat_v2)",
   "language": "python",
   "name": "project_meltheat_v2"
  },
  "language_info": {
   "codemirror_mode": {
    "name": "ipython",
    "version": 3
   },
   "file_extension": ".py",
   "mimetype": "text/x-python",
   "name": "python",
   "nbconvert_exporter": "python",
   "pygments_lexer": "ipython3",
   "version": "3.9.12"
  }
 },
 "nbformat": 4,
 "nbformat_minor": 5
}
